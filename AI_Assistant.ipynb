{
 "cells": [
  {
   "cell_type": "code",
   "execution_count": null,
   "id": "24ec3759",
   "metadata": {},
   "outputs": [],
   "source": [
    "import speech_recognition as sr #speech recognition\n",
    "import pyttsx3 #we will use it for text to speech conversion\n",
    "\n",
    "import wikipedia as wp #exploring wikipedia\n",
    "import pyjokes as pj #getting access to the jokes\n",
    "import datetime as dt #getting information about date and time\n",
    "import pywhatkit as pk#to explore youtube\n",
    "import webbrowser as wb #browsing the web\n",
    "import time"
   ]
  },
  {
   "cell_type": "code",
   "execution_count": null,
   "id": "718ac97d",
   "metadata": {},
   "outputs": [],
   "source": [
    "sr.__version__#checking the version of speech recognition"
   ]
  },
  {
   "cell_type": "code",
   "execution_count": null,
   "id": "7ec37285",
   "metadata": {},
   "outputs": [],
   "source": [
    "listener=sr.Recognizer()#to recognize our voice\n",
    "engine=pyttsx3.init()#to convert from text to speech"
   ]
  },
  {
   "cell_type": "code",
   "execution_count": null,
   "id": "cfaa0897",
   "metadata": {},
   "outputs": [],
   "source": [
    "voices = engine.getProperty('voices')\n",
    "  \n",
    "for voice in voices:\n",
    "    # to get the info. about various voices in our PC \n",
    "    print(\"Voice:--------------------------------\")\n",
    "    print(\"ID: %s\" %voice.id)\n",
    "    #print(\"Name: %s\" %voice.name)\n",
    "    #print(\"Age: %s\" %voice.age)\n",
    "    print(\"Gender: %s\" %voice.gender)\n",
    "    print(\"Languages Known: %s\" %voice.languages)"
   ]
  },
  {
   "cell_type": "code",
   "execution_count": null,
   "id": "0ba31e80",
   "metadata": {},
   "outputs": [],
   "source": [
    "\n",
    "def speak(text):\n",
    "    #setting properties of voice\n",
    "    engine.setProperty(\"volume\", 1) #we can change the volume(0-1)\n",
    "    engine.setProperty(\"rate\", 150) #we can play the voice slow or fast.we set 150 percent\n",
    "\n",
    "    #Changing the voice from male to female\n",
    "    #voice=engine.getProperty(\"voices\") #getting all different voices python text to speech module can provide us\n",
    "    #engine.setProperty(\"voices\", voice[4].id)#we can also direct mention the id of voice istead of \"voice[4].id) after getting id from last cell\"\n",
    "    engine.say(text)\n",
    "    engine.runAndWait()"
   ]
  },
  {
   "cell_type": "code",
   "execution_count": null,
   "id": "809756ed",
   "metadata": {},
   "outputs": [],
   "source": [
    "sr.Microphone.list_microphone_names()#different mics exist in my computer"
   ]
  },
  {
   "cell_type": "code",
   "execution_count": null,
   "id": "101d21e4",
   "metadata": {},
   "outputs": [],
   "source": [
    "def run_machine(command_text):\n",
    "    \n",
    "    if command_text!=0:\n",
    "        print(\"----------command after removing trigger word-------\")\n",
    "        print(command_text)\n",
    "    \n",
    "        #Exploring wikipedia\n",
    "        if \"wikipedia\" in command_text:\n",
    "            wiki=command_text.replace(\"wikipedia\", \"\")\n",
    "            exp=wp.summary(wiki,2)#explaination of two lines of information on wikipedia\n",
    "            print(exp)\n",
    "            speak(exp)\n",
    "\n",
    "        #playing songs on youtube\n",
    "        elif \"play\" in command_text:\n",
    "            song=command_text.replace(\"play\", \"\")#replace play with space\n",
    "            print(\"playing\" + song)\n",
    "            speak(\"playing\" + song)\n",
    "            pk.playonyt(song)#playing song on youtube\n",
    "\n",
    "        elif \"music\" in command_text:\n",
    "            song=command_text.replace(\"music\", \"\")#replace\n",
    "            print(\"playing\" + song)\n",
    "            speak(\"playing\" + song)\n",
    "            pk.playonyt(song)#playing song on youtube\n",
    "\n",
    "        #checking the time\n",
    "        elif \"time\" in command_text:\n",
    "            time= dt.datetime.now()#current time\n",
    "            time=time.strftime(\"%H:%M\")#convert time in string format of hours and minutes(for 12 hour format \"%I:%M %p\")\n",
    "            speak(\"the time is\" + time)\n",
    "            print(f\"time is{time}\")\n",
    "\n",
    "        #to listen a joke    \n",
    "        elif \"joke\" in command_text:\n",
    "            joke=pj.get_joke()\n",
    "            speak(joke)\n",
    "            print(joke)\n",
    "\n",
    "        #opening google search\n",
    "        elif \"google\" in command_text:\n",
    "            speak(\"opening google chrome\")\n",
    "            wb.open_new_tab(\"https://www.google.com\")\n",
    "            time.sleep(3)#wait for 3 seconds. python code will sleep for 3 seconds. we can use at the end of every command exicution\n",
    "        \n",
    "        #wishing good night\n",
    "        elif \"good night\" in command_text:\n",
    "            print(\"Good Night\")\n",
    "            speak(\"Good Night\")\n",
    "            \n",
    "        #wishing good morning\n",
    "        elif \"good morning\" in command_text:\n",
    "            print(\"Good Morning\")\n",
    "            speak(\"Good Morning\")\n",
    "\n",
    "        #if it can't understand command\n",
    "        else:\n",
    "            print(\"can't understand. Please say it again\")\n",
    "            speak(\"can't understand. Please say it again\")\n",
    "            \n",
    "    else:\n",
    "        \n",
    "        print(\"can't understand. Please say it again\")\n",
    "        speak(\"can't understand. Please say it again\")\n",
    "        \n",
    "        \n",
    "        \n",
    "        \n",
    "        \n",
    "        \n",
    "\n",
    "        \n",
    "        \n"
   ]
  },
  {
   "cell_type": "code",
   "execution_count": null,
   "id": "c65a2ab8",
   "metadata": {},
   "outputs": [],
   "source": [
    "while True:\n",
    "    \n",
    "    try:\n",
    "        #defining input source\n",
    "        with sr.Microphone(device_index=17) as source:#we are using microphone for input.i'm using mic at 17th index\n",
    "\n",
    "            ##listening\n",
    "            print(\"say something...\")#it will tell us when we have to speak\n",
    "            listener.adjust_for_ambient_noise(source,duration=1)#It works as a filter for speech recognition.\n",
    "            voice=listener.listen(source)#listening from the source\n",
    "\n",
    "            #recognizing\n",
    "            command=listener.recognize_google(voice)#speech to text recognition\n",
    "            #defining the trigger word so that it take action only when we call its name\n",
    "            command_text=command.lower()\n",
    "            if \"hello\" in command_text:\n",
    "                print(\"listened\")#print after listening from source\n",
    "                print(f\"Your command is: {command_text}\")#prints our command\n",
    "                command_text=command_text.replace(\"hello\", \"\") #it will replace \"hello\" so that we can take further action on this text\n",
    "                run_machine(command_text)\n",
    "\n",
    "    except:\n",
    "        \n",
    "        pass\n",
    "        #print(\"unable to do any action\")#if our mic can't listen or understand command due to any reason"
   ]
  }
 ],
 "metadata": {
  "kernelspec": {
   "display_name": "Python 3 (ipykernel)",
   "language": "python",
   "name": "python3"
  },
  "language_info": {
   "codemirror_mode": {
    "name": "ipython",
    "version": 3
   },
   "file_extension": ".py",
   "mimetype": "text/x-python",
   "name": "python",
   "nbconvert_exporter": "python",
   "pygments_lexer": "ipython3",
   "version": "3.8.10"
  }
 },
 "nbformat": 4,
 "nbformat_minor": 5
}
